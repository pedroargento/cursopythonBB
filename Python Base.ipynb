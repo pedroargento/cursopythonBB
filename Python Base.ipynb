{
 "cells": [
  {
   "cell_type": "markdown",
   "metadata": {},
   "source": [
    "# Python Base"
   ]
  },
  {
   "cell_type": "markdown",
   "metadata": {},
   "source": [
    "## Sobre Python\n",
    "1. Linguagem interpretada\n",
    "2. Linguagem de propósito geral\n",
    "3. Linguagem de alto nível\n",
    "\n",
    "### Filosofia da linguagem\n",
    "* Bonito é melhor do que feio.\n",
    "* Explícito é melhor que implícito.\n",
    "* Simples é melhor que complexo.\n",
    "* Complexo é melhor do que complicado.\n",
    "* Facilidade de leitura é importante.\n",
    "\n",
    "[Documentação](https://docs.python.org/3/)"
   ]
  },
  {
   "cell_type": "markdown",
   "metadata": {},
   "source": [
    "## Sintaxe e Variáveis"
   ]
  },
  {
   "cell_type": "markdown",
   "metadata": {},
   "source": [
    "### Strings\n",
    "Sequência de caracteres que podem incluir letras, números ou símbolos."
   ]
  },
  {
   "cell_type": "code",
   "execution_count": 198,
   "metadata": {},
   "outputs": [
    {
     "name": "stdout",
     "output_type": "stream",
     "text": [
      "Olá mundo\n",
      "Banco do Brasil\n"
     ]
    }
   ],
   "source": [
    "print(\"Olá mundo\")\n",
    "print('Banco do Brasil')"
   ]
  },
  {
   "cell_type": "code",
   "execution_count": 199,
   "metadata": {},
   "outputs": [
    {
     "name": "stdout",
     "output_type": "stream",
     "text": [
      "Bem vindo ao curso, alunos\n"
     ]
    }
   ],
   "source": [
    "print(\"Bem vindo ao curso, \" + \"alunos\")"
   ]
  },
  {
   "cell_type": "code",
   "execution_count": 200,
   "metadata": {},
   "outputs": [
    {
     "name": "stdout",
     "output_type": "stream",
     "text": [
      "\n"
     ]
    }
   ],
   "source": [
    "#Modifique o código para que o programa imprima \"Bem vindo ao curso, (SEU NOME)\" utilizando duas strings.\n",
    "string1 = \"Bem vindo ao curso, \"\n",
    "string2 = \"\"\n",
    "print()"
   ]
  },
  {
   "cell_type": "code",
   "execution_count": 201,
   "metadata": {},
   "outputs": [
    {
     "ename": "SyntaxError",
     "evalue": "EOL while scanning string literal (<ipython-input-201-f840a18cca5c>, line 1)",
     "output_type": "error",
     "traceback": [
      "\u001b[0;36m  File \u001b[0;32m\"<ipython-input-201-f840a18cca5c>\"\u001b[0;36m, line \u001b[0;32m1\u001b[0m\n\u001b[0;31m    print(\"Erros de sintaxe')\u001b[0m\n\u001b[0m                             ^\u001b[0m\n\u001b[0;31mSyntaxError\u001b[0m\u001b[0;31m:\u001b[0m EOL while scanning string literal\n"
     ]
    }
   ],
   "source": [
    "print(\"Erros de sintaxe')\n",
    "print(Erros de sintaxe)\n",
    "print \"Erros de sintaxe\""
   ]
  },
  {
   "cell_type": "markdown",
   "metadata": {},
   "source": [
    "#### Tamanho de uma string"
   ]
  },
  {
   "cell_type": "code",
   "execution_count": 202,
   "metadata": {},
   "outputs": [
    {
     "name": "stdout",
     "output_type": "stream",
     "text": [
      "17\n",
      "5\n",
      "15\n"
     ]
    }
   ],
   "source": [
    "print(len(\"Tamanho da string\"))\n",
    "print(len(\"Pedro\"))\n",
    "print(len(\"Banco do Brasil\"))"
   ]
  },
  {
   "cell_type": "markdown",
   "metadata": {},
   "source": [
    "#### Índice de strings"
   ]
  },
  {
   "cell_type": "code",
   "execution_count": 203,
   "metadata": {},
   "outputs": [
    {
     "name": "stdout",
     "output_type": "stream",
     "text": [
      "H\n",
      "O\n"
     ]
    }
   ],
   "source": [
    "string = \"PYTHON\"\n",
    "print(string[3])\n",
    "print(string[4])\n"
   ]
  },
  {
   "cell_type": "code",
   "execution_count": 204,
   "metadata": {},
   "outputs": [
    {
     "ename": "SyntaxError",
     "evalue": "invalid syntax (<ipython-input-204-bde4dfbbb22a>, line 2)",
     "output_type": "error",
     "traceback": [
      "\u001b[0;36m  File \u001b[0;32m\"<ipython-input-204-bde4dfbbb22a>\"\u001b[0;36m, line \u001b[0;32m2\u001b[0m\n\u001b[0;31m    print(string[])\u001b[0m\n\u001b[0m                 ^\u001b[0m\n\u001b[0;31mSyntaxError\u001b[0m\u001b[0;31m:\u001b[0m invalid syntax\n"
     ]
    }
   ],
   "source": [
    "#Utilizando o índice, imprima a primeira letra da string PYTHON:\n",
    "print(string[])\n",
    "\n",
    "#Utilizando o índice, imprima a ultima letra da string PYTHON:\n",
    "print(string[])"
   ]
  },
  {
   "cell_type": "code",
   "execution_count": 205,
   "metadata": {},
   "outputs": [
    {
     "name": "stdout",
     "output_type": "stream",
     "text": [
      "YTH\n"
     ]
    }
   ],
   "source": [
    "print(string[1:4])"
   ]
  },
  {
   "cell_type": "markdown",
   "metadata": {},
   "source": [
    "#### Upper e Lower"
   ]
  },
  {
   "cell_type": "code",
   "execution_count": 206,
   "metadata": {},
   "outputs": [
    {
     "name": "stdout",
     "output_type": "stream",
     "text": [
      "pedro argento\n",
      "PEDRO ARGENTO\n"
     ]
    }
   ],
   "source": [
    "string = \"Pedro Argento\"\n",
    "print(string.lower())\n",
    "print(string.upper())"
   ]
  },
  {
   "cell_type": "markdown",
   "metadata": {},
   "source": [
    "### Aritimética"
   ]
  },
  {
   "cell_type": "code",
   "execution_count": 207,
   "metadata": {},
   "outputs": [
    {
     "name": "stdout",
     "output_type": "stream",
     "text": [
      "95\n",
      "25\n",
      "2100\n",
      "1.7142857142857142\n",
      "25\n",
      "171907079974842259102865817600000000000000000000000000000000000\n"
     ]
    }
   ],
   "source": [
    "num1 = 60\n",
    "num2 = 35\n",
    "\n",
    "soma = num1 + num2\n",
    "subt = num1 - num2\n",
    "mult = num1*num2\n",
    "div = num1/num2\n",
    "modulo = num1%num2\n",
    "\n",
    "print(soma)\n",
    "print(subt)\n",
    "print(mult)\n",
    "print(div)\n",
    "print(modulo)\n",
    "print(num1**num2)"
   ]
  },
  {
   "cell_type": "code",
   "execution_count": 208,
   "metadata": {},
   "outputs": [
    {
     "name": "stdout",
     "output_type": "stream",
     "text": [
      "30 -15\n",
      "50 -25\n",
      "1000 -2.5\n"
     ]
    }
   ],
   "source": [
    "num1 = 10\n",
    "num2 = 15\n",
    "\n",
    "num1 = num1 + 20\n",
    "num2 = num2 - 30\n",
    "print(num1, num2)\n",
    "\n",
    "num1 += 20\n",
    "num2 -= 10\n",
    "print(num1, num2)\n",
    "\n",
    "num1 *= 20\n",
    "num2 /= 10\n",
    "print(num1, num2)"
   ]
  },
  {
   "cell_type": "code",
   "execution_count": 209,
   "metadata": {},
   "outputs": [],
   "source": [
    "#Comentários\n",
    "\n",
    "#Variável que guarda o número de alunos na turma\n",
    "alunos = 24\n",
    "#Variável que guarda o endereço do curso\n",
    "end = \"CCBB\"\n",
    "#Variável que guarda o andar do curso\n",
    "andar = 3"
   ]
  },
  {
   "cell_type": "markdown",
   "metadata": {},
   "source": [
    "### Inteiros e Float\n",
    "Números interos e decimais."
   ]
  },
  {
   "cell_type": "code",
   "execution_count": 210,
   "metadata": {},
   "outputs": [
    {
     "name": "stdout",
     "output_type": "stream",
     "text": [
      "<class 'int'>\n",
      "<class 'float'>\n",
      "<class 'float'>\n"
     ]
    }
   ],
   "source": [
    "itens = 24\n",
    "preco = 12.5\n",
    "total = itens*preco\n",
    "print(type(itens))\n",
    "print(type(preco))\n",
    "print(type(total))"
   ]
  },
  {
   "cell_type": "code",
   "execution_count": 211,
   "metadata": {},
   "outputs": [
    {
     "name": "stdout",
     "output_type": "stream",
     "text": [
      "2.3333333333333335\n",
      "2\n"
     ]
    }
   ],
   "source": [
    "print(7/3)\n",
    "print(7//3)"
   ]
  },
  {
   "cell_type": "code",
   "execution_count": 212,
   "metadata": {},
   "outputs": [
    {
     "ename": "SyntaxError",
     "evalue": "invalid syntax (<ipython-input-212-1978af56d762>, line 8)",
     "output_type": "error",
     "traceback": [
      "\u001b[0;36m  File \u001b[0;32m\"<ipython-input-212-1978af56d762>\"\u001b[0;36m, line \u001b[0;32m8\u001b[0m\n\u001b[0;31m    fatias =\u001b[0m\n\u001b[0m             ^\u001b[0m\n\u001b[0;31mSyntaxError\u001b[0m\u001b[0;31m:\u001b[0m invalid syntax\n"
     ]
    }
   ],
   "source": [
    "#Modifique o código para que imprima na tela quantas fatias de pizza cada aluno comerá. \n",
    "#Imprima também o número de fatias completas.\n",
    "\n",
    "alunos = 20\n",
    "fatiasPorPizza = 8\n",
    "pizzas = 5\n",
    "\n",
    "fatias = \n",
    "fatiasCompletas = \n",
    "\n",
    "\n",
    "print(\"Fatias:\" + )\n",
    "print(\"Fatias completas:\" + )"
   ]
  },
  {
   "cell_type": "markdown",
   "metadata": {},
   "source": [
    "### Booleanas\n",
    "Variáveis que podem assumir dois valores: Verdadeiro (equivalente ao inteiro 1) e Falso (Equivalente ao inteiro 0)"
   ]
  },
  {
   "cell_type": "code",
   "execution_count": 213,
   "metadata": {},
   "outputs": [],
   "source": [
    "a = True\n",
    "b = False"
   ]
  },
  {
   "cell_type": "code",
   "execution_count": 214,
   "metadata": {},
   "outputs": [
    {
     "name": "stdout",
     "output_type": "stream",
     "text": [
      "10\n",
      "0\n"
     ]
    }
   ],
   "source": [
    "print(a*10)\n",
    "print(b*99999999)"
   ]
  },
  {
   "cell_type": "markdown",
   "metadata": {},
   "source": [
    "### DateTime\n",
    "Biblioteca que permite lidar com tempos e datas"
   ]
  },
  {
   "cell_type": "code",
   "execution_count": 215,
   "metadata": {},
   "outputs": [],
   "source": [
    "#Importar a biblioteca\n",
    "from datetime import datetime"
   ]
  },
  {
   "cell_type": "code",
   "execution_count": 216,
   "metadata": {},
   "outputs": [
    {
     "name": "stdout",
     "output_type": "stream",
     "text": [
      "2019-12-09 05:32:18.302576\n",
      "<class 'datetime.datetime'>\n"
     ]
    }
   ],
   "source": [
    "agora = datetime.now()\n",
    "print(agora)\n",
    "print(type(agora))"
   ]
  },
  {
   "cell_type": "code",
   "execution_count": 217,
   "metadata": {},
   "outputs": [
    {
     "name": "stdout",
     "output_type": "stream",
     "text": [
      "9\n",
      "12\n",
      "2019\n"
     ]
    }
   ],
   "source": [
    "dia = agora.day\n",
    "print(dia)\n",
    "\n",
    "mes = agora.month\n",
    "print(mes)\n",
    "\n",
    "ano = agora.year\n",
    "print(ano)"
   ]
  },
  {
   "cell_type": "code",
   "execution_count": 218,
   "metadata": {},
   "outputs": [],
   "source": [
    "#Imprima na tela separadamente a hora, o minuto e o segundo atuais"
   ]
  },
  {
   "cell_type": "markdown",
   "metadata": {},
   "source": [
    "### Listas\n",
    "Listas são variáveis que guarda uma coleção de outros objetos (strings, números, etc). Em Python, uma lista é representada por colchetes."
   ]
  },
  {
   "cell_type": "code",
   "execution_count": 219,
   "metadata": {},
   "outputs": [],
   "source": [
    "numeros = [1,2,3,4,5,6]\n",
    "lista_vazia = []\n",
    "animais = ['vaca', 'cavalo', 'cachorro']"
   ]
  },
  {
   "cell_type": "code",
   "execution_count": 220,
   "metadata": {},
   "outputs": [
    {
     "data": {
      "text/plain": [
       "6"
      ]
     },
     "execution_count": 220,
     "metadata": {},
     "output_type": "execute_result"
    }
   ],
   "source": [
    "numeros[0] + numeros[4]"
   ]
  },
  {
   "cell_type": "code",
   "execution_count": 221,
   "metadata": {},
   "outputs": [
    {
     "name": "stdout",
     "output_type": "stream",
     "text": [
      "['vaca', 'cavalo', 'gato']\n"
     ]
    }
   ],
   "source": [
    "#Alterar o conteúdo da lista baseado no índice\n",
    "animais[2] = 'gato'\n",
    "print(animais)"
   ]
  },
  {
   "cell_type": "code",
   "execution_count": 222,
   "metadata": {},
   "outputs": [
    {
     "name": "stdout",
     "output_type": "stream",
     "text": [
      "[2, 3]\n",
      "2\n",
      "[10, 3]\n"
     ]
    }
   ],
   "source": [
    "#Sublistas\n",
    "sublista = numeros[1:3]\n",
    "print(sublista)\n",
    "print(sublista[0])\n",
    "sublista[0] = 10\n",
    "print(sublista)"
   ]
  },
  {
   "cell_type": "code",
   "execution_count": 223,
   "metadata": {},
   "outputs": [
    {
     "name": "stdout",
     "output_type": "stream",
     "text": [
      "[5]\n",
      "[5, 'crocodilo']\n",
      "['vaca', 'boi', 'cavalo', 'gato']\n"
     ]
    }
   ],
   "source": [
    "#adicionar elemento no fim da lista\n",
    "lista_vazia.append(5)\n",
    "print(lista_vazia)\n",
    "lista_vazia.append(\"crocodilo\")\n",
    "print(lista_vazia)\n",
    "\n",
    "#adicionar elemento no meio da lista\n",
    "animais.insert(1,\"boi\")\n",
    "print(animais)"
   ]
  },
  {
   "cell_type": "code",
   "execution_count": 224,
   "metadata": {},
   "outputs": [
    {
     "name": "stdout",
     "output_type": "stream",
     "text": [
      "0\n",
      "2\n"
     ]
    }
   ],
   "source": [
    "#Obter o índice de um ítem:\n",
    "print(animais.index(\"vaca\"))\n",
    "print(animais.index(\"cavalo\"))"
   ]
  },
  {
   "cell_type": "code",
   "execution_count": 225,
   "metadata": {},
   "outputs": [
    {
     "name": "stdout",
     "output_type": "stream",
     "text": [
      "[-10, 0, 1, 1, 10, 30, 40, 100, 1000]\n"
     ]
    }
   ],
   "source": [
    "#Ordernar listas\n",
    "lista = [10,30,1,-10,40,1,100,1000, 0]\n",
    "lista.sort()\n",
    "print(lista)"
   ]
  },
  {
   "cell_type": "markdown",
   "metadata": {},
   "source": [
    "#### Loop FOR\n",
    "Itera através dos elementos de uma lista (ou string)"
   ]
  },
  {
   "cell_type": "code",
   "execution_count": 226,
   "metadata": {},
   "outputs": [
    {
     "name": "stdout",
     "output_type": "stream",
     "text": [
      "vaca\n",
      "boi\n",
      "cavalo\n",
      "gato\n"
     ]
    }
   ],
   "source": [
    "for animal in animais:\n",
    "    print(animal)"
   ]
  },
  {
   "cell_type": "markdown",
   "metadata": {},
   "source": [
    "#### Filtro e reduce"
   ]
  },
  {
   "cell_type": "code",
   "execution_count": 227,
   "metadata": {},
   "outputs": [
    {
     "data": {
      "text/plain": [
       "[10, 30, 40, 100, 1000]"
      ]
     },
     "execution_count": 227,
     "metadata": {},
     "output_type": "execute_result"
    }
   ],
   "source": [
    "[i for i in lista if i>1]"
   ]
  },
  {
   "cell_type": "code",
   "execution_count": 228,
   "metadata": {},
   "outputs": [
    {
     "data": {
      "text/plain": [
       "[-20, 0, 2, 2, 20, 60, 80]"
      ]
     },
     "execution_count": 228,
     "metadata": {},
     "output_type": "execute_result"
    }
   ],
   "source": [
    "[2*i for i in lista if i<50]"
   ]
  },
  {
   "cell_type": "code",
   "execution_count": 229,
   "metadata": {},
   "outputs": [
    {
     "ename": "SyntaxError",
     "evalue": "invalid syntax (<ipython-input-229-cae166811a60>, line 3)",
     "output_type": "error",
     "traceback": [
      "\u001b[0;36m  File \u001b[0;32m\"<ipython-input-229-cae166811a60>\"\u001b[0;36m, line \u001b[0;32m3\u001b[0m\n\u001b[0;31m    [animal for animal in lista if ??]\u001b[0m\n\u001b[0m                                   ^\u001b[0m\n\u001b[0;31mSyntaxError\u001b[0m\u001b[0;31m:\u001b[0m invalid syntax\n"
     ]
    }
   ],
   "source": [
    "lista = ['vaca', 'avestruz', 'albatroz', 'cachorro', 'gato', 'anta']\n",
    "#Crie uma lista apenas com animais começando com a letra \"a\"\n",
    "[animal for animal in lista if ??]"
   ]
  },
  {
   "cell_type": "markdown",
   "metadata": {},
   "source": [
    "### Dicionários\n",
    "São parecidos com listas mas ao invés de um índice numérico seus elementos são indexados por chaves únicas, que podem ser strings ou inteiros. São representados por {}."
   ]
  },
  {
   "cell_type": "code",
   "execution_count": 230,
   "metadata": {},
   "outputs": [],
   "source": [
    "d = {'key1' : 1, 'key2' : 2, 'key3' : 3}"
   ]
  },
  {
   "cell_type": "code",
   "execution_count": 231,
   "metadata": {},
   "outputs": [
    {
     "data": {
      "text/plain": [
       "1"
      ]
     },
     "execution_count": 231,
     "metadata": {},
     "output_type": "execute_result"
    }
   ],
   "source": [
    "d['key1']"
   ]
  },
  {
   "cell_type": "code",
   "execution_count": 232,
   "metadata": {},
   "outputs": [],
   "source": [
    "d['key2'] = 10"
   ]
  },
  {
   "cell_type": "code",
   "execution_count": 233,
   "metadata": {},
   "outputs": [
    {
     "data": {
      "text/plain": [
       "10"
      ]
     },
     "execution_count": 233,
     "metadata": {},
     "output_type": "execute_result"
    }
   ],
   "source": [
    "d['key2']"
   ]
  },
  {
   "cell_type": "code",
   "execution_count": 234,
   "metadata": {},
   "outputs": [],
   "source": [
    "d['novo'] = 100"
   ]
  },
  {
   "cell_type": "code",
   "execution_count": 235,
   "metadata": {},
   "outputs": [
    {
     "data": {
      "text/plain": [
       "{'key1': 1, 'key2': 10, 'key3': 3, 'novo': 100}"
      ]
     },
     "execution_count": 235,
     "metadata": {},
     "output_type": "execute_result"
    }
   ],
   "source": [
    "d"
   ]
  },
  {
   "cell_type": "code",
   "execution_count": 236,
   "metadata": {},
   "outputs": [
    {
     "name": "stdout",
     "output_type": "stream",
     "text": [
      "Maria\n",
      "Joao\n",
      "Pedro\n",
      "Carla\n"
     ]
    }
   ],
   "source": [
    "#Exemplo:\n",
    "ultimas_transacoes = {'Maria': [100,30,-10], 'Joao': [-10,-10,-10,300], 'Pedro': [10], 'Carla': [-5,10,15,-20]}\n",
    "\n",
    "#Crie um dicionário com o total de todas as transações de cada pessoa \n",
    "for key in ultimas_transacoes:\n",
    "    print(key)"
   ]
  },
  {
   "cell_type": "markdown",
   "metadata": {},
   "source": [
    "#### Map"
   ]
  },
  {
   "cell_type": "code",
   "execution_count": 237,
   "metadata": {},
   "outputs": [
    {
     "name": "stdout",
     "output_type": "stream",
     "text": [
      "[2, 4, 6, 8]\n"
     ]
    }
   ],
   "source": [
    "def dobrar(n): \n",
    "    return 2*n\n",
    "  \n",
    "numbers = [1, 2, 3, 4] \n",
    "result = map(dobrar, numbers) \n",
    "print(list(result)) "
   ]
  },
  {
   "cell_type": "code",
   "execution_count": 238,
   "metadata": {},
   "outputs": [
    {
     "name": "stdout",
     "output_type": "stream",
     "text": [
      "[2, 4, 6, 8]\n"
     ]
    }
   ],
   "source": [
    "numbers = [1, 2, 3, 4] \n",
    "result = map(lambda x: 2*x, numbers) \n",
    "print(list(result)) "
   ]
  },
  {
   "cell_type": "code",
   "execution_count": 239,
   "metadata": {},
   "outputs": [
    {
     "name": "stdout",
     "output_type": "stream",
     "text": [
      "[5, 7, 9]\n"
     ]
    }
   ],
   "source": [
    "numbers1 = [1, 2, 3] \n",
    "numbers2 = [4, 5, 6] \n",
    "  \n",
    "result = map(lambda x, y: x + y, numbers1, numbers2) \n",
    "print(list(result)) "
   ]
  },
  {
   "cell_type": "code",
   "execution_count": 240,
   "metadata": {},
   "outputs": [
    {
     "name": "stdout",
     "output_type": "stream",
     "text": [
      "[120, 270, 10, 0]\n"
     ]
    }
   ],
   "source": [
    "r = map(lambda x: sum(ultimas_transacoes[x]), ultimas_transacoes.keys())\n",
    "print(list(r))"
   ]
  },
  {
   "cell_type": "markdown",
   "metadata": {},
   "source": [
    "## Controle de Fluxo"
   ]
  },
  {
   "cell_type": "markdown",
   "metadata": {},
   "source": [
    "### Comparadores\n",
    "Operações que dão como resposta variáveis booleanas."
   ]
  },
  {
   "cell_type": "code",
   "execution_count": 241,
   "metadata": {},
   "outputs": [
    {
     "name": "stdout",
     "output_type": "stream",
     "text": [
      "True\n",
      "True\n",
      "True\n",
      "False\n",
      "False\n",
      "False\n"
     ]
    }
   ],
   "source": [
    "#Igual a: ==\n",
    "print(5==5)\n",
    "print(True == 1)\n",
    "print(\"Banco do Brasil\"== \"Banco do Brasil\")\n",
    "\n",
    "print(5==7)\n",
    "print(True == 0)\n",
    "print(\"Pedro\" == \"Felipe\")"
   ]
  },
  {
   "cell_type": "code",
   "execution_count": 242,
   "metadata": {},
   "outputs": [
    {
     "name": "stdout",
     "output_type": "stream",
     "text": [
      "False\n",
      "False\n",
      "False\n",
      "True\n",
      "True\n",
      "True\n"
     ]
    }
   ],
   "source": [
    "#Diferente de: !=\n",
    "print(5!=5)\n",
    "print(True != 1)\n",
    "print(\"Banco do Brasil\" != \"Banco do Brasil\")\n",
    "\n",
    "print(5!=7)\n",
    "print(True != 0)\n",
    "print(\"Pedro\" != \"Felipe\")"
   ]
  },
  {
   "cell_type": "code",
   "execution_count": 243,
   "metadata": {},
   "outputs": [
    {
     "name": "stdout",
     "output_type": "stream",
     "text": [
      "True\n",
      "False\n",
      "True\n",
      "True\n"
     ]
    }
   ],
   "source": [
    "#Maior(>), Maior ou igual (>=), Menor(<), Menor ou igual (<=)\n",
    "print(5>=5)\n",
    "print(5>5)\n",
    "print(5<=9)\n",
    "\n",
    "print(\"Pedro\" > \"Felipe\")"
   ]
  },
  {
   "cell_type": "markdown",
   "metadata": {},
   "source": [
    "### Operadores Booleanos\n",
    "* AND: Verdadeiro quando os dois casos são verdadeiros\n",
    "* OR: Verdadeiro quando pelo menos um dos casos é verdadeiro\n",
    "* NOT: Negação"
   ]
  },
  {
   "cell_type": "code",
   "execution_count": 244,
   "metadata": {},
   "outputs": [
    {
     "name": "stdout",
     "output_type": "stream",
     "text": [
      "True\n",
      "False\n",
      "False\n",
      "False\n"
     ]
    }
   ],
   "source": [
    "print(8 > 5 and 7>6)   #Verdadeiro x Verdadeiro = Verdadeiro\n",
    "print(10 == 5 and 7>6) #Falso x Verdadeiro = Falso\n",
    "print(8 > 5 and 6<6)   #Verdadeiro x Falso = Falso\n",
    "print(8 < 5 and 6<6)   #Falso x Falso = Falso"
   ]
  },
  {
   "cell_type": "code",
   "execution_count": 245,
   "metadata": {},
   "outputs": [
    {
     "name": "stdout",
     "output_type": "stream",
     "text": [
      "True\n",
      "True\n",
      "True\n",
      "False\n"
     ]
    }
   ],
   "source": [
    "print(8 > 5 or 7>6)   #Verdadeiro x Verdadeiro = Verdadeiro\n",
    "print(10 == 5 or 7>6) #Falso x Verdadeiro = Verdadeiro\n",
    "print(8 > 5 or 6<6)   #Verdadeiro x Falso = Verdadeiro\n",
    "print(8 < 5 or 6<6)   #Falso x Falso = Falso"
   ]
  },
  {
   "cell_type": "code",
   "execution_count": 246,
   "metadata": {
    "slideshow": {
     "slide_type": "slide"
    }
   },
   "outputs": [
    {
     "name": "stdout",
     "output_type": "stream",
     "text": [
      "True\n",
      "False\n",
      "False\n",
      "True\n"
     ]
    }
   ],
   "source": [
    "a = 50 > 40\n",
    "print(a)\n",
    "print( not a)\n",
    "\n",
    "print(not True)\n",
    "print(not False)"
   ]
  },
  {
   "cell_type": "markdown",
   "metadata": {},
   "source": [
    "### Expressões Condicionais\n",
    "Uma expressão condicional é uma estrutura que permite a execução de pedaços de código de acordo com a avaliação de expressões booleanas.\n",
    "\n",
    "Exemplo: \n",
    "* Se chover: Executar levar guarda-chuve\n",
    "* Se não chover: Executar ir à praia"
   ]
  },
  {
   "cell_type": "code",
   "execution_count": 247,
   "metadata": {},
   "outputs": [],
   "source": [
    "a = 4\n",
    "if a == 5:\n",
    "    print(\"a é igual a 5\")"
   ]
  },
  {
   "cell_type": "code",
   "execution_count": 248,
   "metadata": {},
   "outputs": [
    {
     "name": "stdout",
     "output_type": "stream",
     "text": [
      "a é igual a 5\n"
     ]
    }
   ],
   "source": [
    "a = 5\n",
    "if a == 5:\n",
    "    print(\"a é igual a 5\")\n",
    "else:\n",
    "    print(\"a é diferente de 5\")"
   ]
  },
  {
   "cell_type": "code",
   "execution_count": 249,
   "metadata": {},
   "outputs": [
    {
     "name": "stdout",
     "output_type": "stream",
     "text": [
      "a é menor do que 5\n",
      "a é menor do que 10\n"
     ]
    }
   ],
   "source": [
    "a = 4\n",
    "if a <= 5:\n",
    "    print(\"a é menor do que 5\")\n",
    "if a <10:\n",
    "    print(\"a é menor do que 10\")\n",
    "else:\n",
    "    print(\"a é maior que 10\")"
   ]
  },
  {
   "cell_type": "code",
   "execution_count": 250,
   "metadata": {},
   "outputs": [
    {
     "name": "stdout",
     "output_type": "stream",
     "text": [
      "a é menor do que 5\n"
     ]
    }
   ],
   "source": [
    "a = 4\n",
    "if a <= 5:\n",
    "    print(\"a é menor do que 5\")\n",
    "elif a <10:\n",
    "    print(\"a é menor do que 10\")\n",
    "else:\n",
    "    print(\"a é maior que 10\")"
   ]
  },
  {
   "cell_type": "markdown",
   "metadata": {},
   "source": [
    "#### Mini Projeto:\n",
    "Escreva um código em que um cliente do banco possa retirar ou depositar dinheiro em sua conta corrente com as seguintes condições: \n",
    "* A operação deve ser realizada durante o horário de funcionamento do banco.\n",
    "* O cliente tem um limite de cheque especial de -100.\n",
    "* Imprima o saldo após a operação.\n",
    "* Caso a operação não funcione, informe o problema ao cliente."
   ]
  },
  {
   "cell_type": "markdown",
   "metadata": {},
   "source": [
    "### Loop While\n",
    "Executa um pedaço de código enquanto uma condição for verdadeira.\n",
    "\n",
    "while(condição):\n",
    "\n",
    "    executa"
   ]
  },
  {
   "cell_type": "code",
   "execution_count": 251,
   "metadata": {},
   "outputs": [
    {
     "name": "stdout",
     "output_type": "stream",
     "text": [
      "0\n",
      "1\n",
      "2\n",
      "3\n",
      "4\n",
      "5\n",
      "6\n",
      "7\n",
      "8\n",
      "9\n"
     ]
    }
   ],
   "source": [
    "i = 0\n",
    "while i<10:\n",
    "    print(i)\n",
    "    i+=1"
   ]
  },
  {
   "cell_type": "markdown",
   "metadata": {},
   "source": [
    "## Funções\n",
    "Funções são utilizadas quando há a necessidade de repetir um pedaço de código ou uma operação diversas vezes com apenas alguns valores diferentes. O uso de funções torna o código mais limpo, facilita a leitura e a manutenção, diminuindo a chance de erros."
   ]
  },
  {
   "cell_type": "markdown",
   "metadata": {},
   "source": [
    "Sintaxe:\n",
    "\n",
    "def nome_da_funcao (parâmetros):\n",
    "\n",
    "    código\n",
    "\n",
    "    return resposta_da_função"
   ]
  },
  {
   "cell_type": "code",
   "execution_count": 252,
   "metadata": {},
   "outputs": [
    {
     "name": "stdout",
     "output_type": "stream",
     "text": [
      "23.80952380952381\n",
      "47.61904761904762\n",
      "119.04761904761904\n"
     ]
    }
   ],
   "source": [
    "#Quantos dólares consigo comprar com a taxa de cambio a 4,20 R$/USD com diferentes saldos?\n",
    "#100 \n",
    "print(100/4.20)\n",
    "#200\n",
    "print(200/4.20)\n",
    "#500\n",
    "print(500/4.20)"
   ]
  },
  {
   "cell_type": "code",
   "execution_count": 253,
   "metadata": {},
   "outputs": [
    {
     "name": "stdout",
     "output_type": "stream",
     "text": [
      "23.80952380952381\n",
      "47.61904761904762\n",
      "119.04761904761904\n"
     ]
    }
   ],
   "source": [
    "#Exemplo: função que converte reais em dólar:\n",
    "def conversorUSD(reais):\n",
    "    dolar = reais/4.20\n",
    "    return dolar\n",
    "\n",
    "print(conversorUSD(100))\n",
    "print(conversorUSD(200))\n",
    "print(conversorUSD(500))"
   ]
  },
  {
   "cell_type": "code",
   "execution_count": 254,
   "metadata": {},
   "outputs": [],
   "source": [
    "#Escreva uma função que calcule quantos meses uma pessoa precisa economizar para comprar um carro dado\n",
    "#seu salário, o preço do carro e uma taxa de economia mensal.  "
   ]
  }
 ],
 "metadata": {
  "kernelspec": {
   "display_name": "Python 3",
   "language": "python",
   "name": "python3"
  },
  "language_info": {
   "codemirror_mode": {
    "name": "ipython",
    "version": 3
   },
   "file_extension": ".py",
   "mimetype": "text/x-python",
   "name": "python",
   "nbconvert_exporter": "python",
   "pygments_lexer": "ipython3",
   "version": "3.7.3"
  }
 },
 "nbformat": 4,
 "nbformat_minor": 2
}
